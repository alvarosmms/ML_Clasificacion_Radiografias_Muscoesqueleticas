{
 "cells": [
  {
   "cell_type": "markdown",
   "metadata": {},
   "source": [
    "# **Clasificación de Radiografías Musculoesqueléticas (MURA)**\n",
    "\n",
    "Este proyecto tiene como objetivo desarrollar un modelo de **clasificación binaria** capaz de identificar si una radiografía musculoesquelética (perteneciente al conjunto de datos [MURA](https://stanfordmlgroup.github.io/competitions/mura/)) presenta una **anomalía (abnormal)** o es **normal (negative)**.\n",
    "\n",
    "---\n",
    "\n",
    "## ¿Qué haremos?\n",
    "\n",
    "1. **Prepararemos los datos** a partir de las imágenes del dataset MURA.\n",
    "2. **Crearemos un modelo basado en ResNet18 preentrenado**, adaptado para clasificación binaria.\n",
    "3. **Entrenaremos** el modelo sobre las radiografías con técnicas de fine-tuning.\n",
    "4. **Evaluaremos su rendimiento** con métricas como F1-score, accuracy y matriz de confusión.\n",
    "5. **Visualizaremos predicciones correctas y errores** para interpretar el comportamiento.\n",
    "6. **Guardaremos el modelo final** para uso futuro."
   ]
  },
  {
   "cell_type": "markdown",
   "metadata": {},
   "source": [
    "## **Paso 1: Importaciones y librerías necesarias**\n",
    "\n",
    "A continuación, cargamos todas las librerías necesarias para procesamiento de imágenes, modelado con PyTorch, visualización y evaluación."
   ]
  },
  {
   "cell_type": "code",
   "execution_count": 1,
   "metadata": {},
   "outputs": [],
   "source": [
    "# Librerías de procesamiento y visualización\n",
    "import os\n",
    "import numpy as np\n",
    "import matplotlib.pyplot as plt\n",
    "from pathlib import Path\n",
    "from collections import Counter\n",
    "import random\n",
    "\n",
    "# PyTorch y herramientas para modelado\n",
    "import torch\n",
    "import torch.nn as nn\n",
    "import torch.optim as optim\n",
    "from torch.utils.data import DataLoader, Dataset\n",
    "from torchvision import models, transforms\n",
    "from PIL import Image\n",
    "\n",
    "# Métricas\n",
    "from sklearn.metrics import classification_report, confusion_matrix, f1_score, accuracy_score\n",
    "import seaborn as sns\n",
    "\n",
    "# Guardado de modelo\n",
    "import joblib"
   ]
  },
  {
   "cell_type": "markdown",
   "metadata": {},
   "source": [
    "##  **Paso 2: Configuración e Hiperparámetros**\n",
    "\n",
    "En este bloque definimos los valores clave para entrenar nuestro modelo:\n",
    "- Ruta del dataset MURA completo (guardado en local debido al peso)\n",
    "- Tamaño de imagen y lote\n",
    "- Número de épocas\n",
    "- Learning rate\n",
    "- Patiencia para early stopping y reducción de LR"
   ]
  },
  {
   "cell_type": "code",
   "execution_count": 2,
   "metadata": {},
   "outputs": [
    {
     "name": "stdout",
     "output_type": "stream",
     "text": [
      "Computando en: mps\n"
     ]
    }
   ],
   "source": [
    "# Ruta al dataset MURA completo\n",
    "DATASET_DIR = \"/Users/alvarosanchez/Downloads/MURA-v1.1\"\n",
    "train_dir = os.path.join(DATASET_DIR, \"train\")\n",
    "valid_dir = os.path.join(DATASET_DIR, \"valid\")\n",
    "\n",
    "# Dispositivo (GPU si está disponible)\n",
    "DEVICE = torch.device(\"mps\" if torch.backends.mps.is_available() else \"cuda\" if torch.cuda.is_available() else \"cpu\")\n",
    "print(\"Computando en:\", DEVICE)\n",
    "\n",
    "# Tamaño de imagen\n",
    "IMAGE_SIZE = (224, 224)\n",
    "\n",
    "# Hiperparámetros\n",
    "BATCH_SIZE = 32\n",
    "NUM_EPOCHS = 20\n",
    "LEARNING_RATE = 1e-4\n",
    "EARLYSTOP_PATIENCE = 5\n",
    "LR_PATIENCE = 5\n",
    "WEIGHT_DECAY = 1e-4  # Regularización L2 para evitar overfitting\n",
    "\n",
    "# Ruta donde se guardará el modelo final\n",
    "MODEL_PATH = \"/Users/alvarosanchez/ONLINE_DS_THEBRIDGE_ALVAROSMMS-1/ML_Clasificacion_Radiografias_Muscoesqueleticas/src/models/resnet18_final_model.pkl\""
   ]
  },
  {
   "cell_type": "markdown",
   "metadata": {},
   "source": [
    "## **Paso 3: Transformaciones, creación del Dataset y DataLoaders**\n",
    "\n",
    "Para entrenar un modelo robusto, es crucial preparar adecuadamente los datos. En este paso:\n",
    "\n",
    "- Aplicaremos **transformaciones de aumento de datos (data augmentation)** al conjunto de entrenamiento para mejorar la capacidad de generalización del modelo.\n",
    "- Estandarizaremos todas las imágenes al mismo tamaño (`224x224`) y normalizaremos con la media y desviación estándar de ImageNet (ya que la ResNet fue preentrenada con este dataset).\n",
    "- Crearemos los `DataLoader` de entrenamiento y validación para facilitar la iteración por lotes durante el entrenamiento.\n",
    "\n",
    "Además, incluimos un pequeño análisis para detectar posibles problemas de estructura de carpetas o archivos ocultos."
   ]
  },
  {
   "cell_type": "code",
   "execution_count": 3,
   "metadata": {},
   "outputs": [
    {
     "name": "stdout",
     "output_type": "stream",
     "text": [
      "Dataset cargado: 36808 entrenamiento, 3197 validación\n"
     ]
    }
   ],
   "source": [
    "# Transformaciones para entrenamiento y validación\n",
    "transform_train = transforms.Compose([\n",
    "    transforms.Resize((224, 224)),\n",
    "    transforms.RandomHorizontalFlip(),\n",
    "    transforms.RandomRotation(degrees=10),\n",
    "    transforms.ColorJitter(brightness=0.2, contrast=0.2),\n",
    "    transforms.ToTensor(),\n",
    "    transforms.Normalize(mean=[0.485, 0.456, 0.406],\n",
    "                         std=[0.229, 0.224, 0.225])  # Normalización de ImageNet\n",
    "])\n",
    "\n",
    "transform_val = transforms.Compose([\n",
    "    transforms.Resize((224, 224)),\n",
    "    transforms.ToTensor(),\n",
    "    transforms.Normalize(mean=[0.485, 0.456, 0.406],\n",
    "                         std=[0.229, 0.224, 0.225])\n",
    "])\n",
    "\n",
    "# Dataset personalizado corregido para evitar errores con archivos ocultos como .DS_Store\n",
    "class MURABinaryDataset(Dataset):\n",
    "    def __init__(self, root_dir, transform=None):\n",
    "        self.samples = []\n",
    "        self.transform = transform\n",
    "        root_dir = Path(root_dir)\n",
    "\n",
    "        for body_part in root_dir.iterdir():\n",
    "            if not body_part.is_dir() or body_part.name.startswith('.'):\n",
    "                continue\n",
    "            for patient_dir in body_part.iterdir():\n",
    "                if not patient_dir.is_dir():\n",
    "                    continue\n",
    "                for study_dir in patient_dir.iterdir():\n",
    "                    if not study_dir.is_dir():\n",
    "                        continue\n",
    "                    label = 1 if \"positive\" in study_dir.name else 0\n",
    "                    for img_path in study_dir.glob(\"*.png\"):\n",
    "                        self.samples.append((img_path, label))\n",
    "\n",
    "    def __len__(self):\n",
    "        return len(self.samples)\n",
    "\n",
    "    def __getitem__(self, idx):\n",
    "        img_path, label = self.samples[idx]\n",
    "        image = Image.open(img_path).convert(\"RGB\")\n",
    "        if self.transform:\n",
    "            image = self.transform(image)\n",
    "        return image, label\n",
    "\n",
    "# Crear datasets con rutas corregidas\n",
    "train_dataset = MURABinaryDataset(train_dir, transform=transform_train)\n",
    "valid_dataset = MURABinaryDataset(valid_dir, transform=transform_val)\n",
    "\n",
    "# Crear dataloaders\n",
    "train_loader = DataLoader(train_dataset, batch_size=BATCH_SIZE, shuffle=True)\n",
    "valid_loader = DataLoader(valid_dataset, batch_size=BATCH_SIZE, shuffle=False)\n",
    "\n",
    "print(f\"Dataset cargado: {len(train_dataset)} entrenamiento, {len(valid_dataset)} validación\")"
   ]
  },
  {
   "cell_type": "markdown",
   "metadata": {},
   "source": [
    "## **Paso 4: Análisis del desequilibrio de clases**\n",
    "\n",
    "Antes de entrenar el modelo, es crucial analizar la distribución de las clases en el conjunto de entrenamiento.  \n",
    "En este problema, queremos clasificar radiografías como **normales (0)** o **anormales (1)**.  \n",
    "Si hay una diferencia significativa entre el número de imágenes por clase, el modelo podría sesgarse hacia la clase mayoritaria.\n",
    "\n",
    "En este paso:\n",
    "\n",
    "- Calcularemos cuántas imágenes hay de cada clase.\n",
    "- Visualizaremos esa distribución.\n",
    "- Calcularemos **pesos inversamente proporcionales** al número de muestras por clase para equilibrar la función de pérdida (`CrossEntropyLoss`), de forma que el modelo aprenda sin favorecer la clase dominante."
   ]
  },
  {
   "cell_type": "code",
   "execution_count": 4,
   "metadata": {},
   "outputs": [
    {
     "name": "stdout",
     "output_type": "stream",
     "text": [
      "Distribución de clases en el conjunto de entrenamiento:\n",
      "Clase 0 (Normal (0)): 21935 ejemplos\n",
      "Clase 1 (Abnormal (1)): 14873 ejemplos\n"
     ]
    },
    {
     "data": {
      "image/png": "[encoded data removed]",
      "text/plain": [
       "<Figure size 640x480 with 1 Axes>"
      ]
     },
     "metadata": {},
     "output_type": "display_data"
    },
    {
     "name": "stdout",
     "output_type": "stream",
     "text": [
      "\n",
      "Pesos calculados para la función de pérdida: [1.6780487804878048, 2.4748201438848922]\n"
     ]
    }
   ],
   "source": [
    "from collections import Counter\n",
    "import matplotlib.pyplot as plt\n",
    "\n",
    "# Contar la cantidad de ejemplos por clase en el set de entrenamiento\n",
    "labels = [label for _, label in train_dataset]\n",
    "label_counts = Counter(labels)\n",
    "\n",
    "print(\"Distribución de clases en el conjunto de entrenamiento:\")\n",
    "for clase, cantidad in label_counts.items():\n",
    "    etiqueta = \"Normal (0)\" if clase == 0 else \"Abnormal (1)\"\n",
    "    print(f\"Clase {clase} ({etiqueta}): {cantidad} ejemplos\")\n",
    "\n",
    "# Visualización de la distribución de clases\n",
    "plt.bar(['Normal (0)', 'Abnormal (1)'], [label_counts[0], label_counts[1]], color=['#1f77b4', '#ff7f0e'])\n",
    "plt.title(\"Distribución de clases en el conjunto de entrenamiento\")\n",
    "plt.ylabel(\"Número de imágenes\")\n",
    "plt.show()\n",
    "\n",
    "# Cálculo de pesos inversamente proporcionales a la frecuencia de las clases\n",
    "total = sum(label_counts.values())\n",
    "class_weights = [total / label_counts[0], total / label_counts[1]]\n",
    "class_weights_tensor = torch.tensor(class_weights, dtype=torch.float).to(DEVICE)\n",
    "\n",
    "print(f\"\\nPesos calculados para la función de pérdida: {class_weights}\")"
   ]
  },
  {
   "cell_type": "markdown",
   "metadata": {},
   "source": [
    "## **Paso 5: Definición del modelo ResNet18 y descongelado parcial**\n",
    "\n",
    "En este paso, se define el modelo de aprendizaje profundo basado en **ResNet18**, una red convolucional preentrenada en **ImageNet**.\n",
    "\n",
    "Como estrategia de optimización, **descongelamos parcialmente** las capas desde `layer2` en adelante (`layer2`, `layer3`, `layer4` y `fc`).  \n",
    "Esto permite que el modelo ajuste sus pesos en capas más profundas para aprender patrones más específicos del dominio de rayos X musculoesqueléticos, manteniendo congeladas las primeras capas que capturan patrones visuales más generales.\n",
    "\n",
    "Además, se modifica la **capa final (`fc`)** del modelo para realizar **clasificación binaria**, distinguiendo entre radiografías **normales (0)** y **anormales (1)**."
   ]
  },
  {
   "cell_type": "code",
   "execution_count": 5,
   "metadata": {},
   "outputs": [
    {
     "name": "stdout",
     "output_type": "stream",
     "text": [
      "ResNet(\n",
      "  (conv1): Conv2d(3, 64, kernel_size=(7, 7), stride=(2, 2), padding=(3, 3), bias=False)\n",
      "  (bn1): BatchNorm2d(64, eps=1e-05, momentum=0.1, affine=True, track_running_stats=True)\n",
      "  (relu): ReLU(inplace=True)\n",
      "  (maxpool): MaxPool2d(kernel_size=3, stride=2, padding=1, dilation=1, ceil_mode=False)\n",
      "  (layer1): Sequential(\n",
      "    (0): BasicBlock(\n",
      "      (conv1): Conv2d(64, 64, kernel_size=(3, 3), stride=(1, 1), padding=(1, 1), bias=False)\n",
      "      (bn1): BatchNorm2d(64, eps=1e-05, momentum=0.1, affine=True, track_running_stats=True)\n",
      "      (relu): ReLU(inplace=True)\n",
      "      (conv2): Conv2d(64, 64, kernel_size=(3, 3), stride=(1, 1), padding=(1, 1), bias=False)\n",
      "      (bn2): BatchNorm2d(64, eps=1e-05, momentum=0.1, affine=True, track_running_stats=True)\n",
      "    )\n",
      "    (1): BasicBlock(\n",
      "      (conv1): Conv2d(64, 64, kernel_size=(3, 3), stride=(1, 1), padding=(1, 1), bias=False)\n",
      "      (bn1): BatchNorm2d(64, eps=1e-05, momentum=0.1, affine=True, track_running_stats=True)\n",
      "      (relu): ReLU(inplace=True)\n",
      "      (conv2): Conv2d(64, 64, kernel_size=(3, 3), stride=(1, 1), padding=(1, 1), bias=False)\n",
      "      (bn2): BatchNorm2d(64, eps=1e-05, momentum=0.1, affine=True, track_running_stats=True)\n",
      "    )\n",
      "  )\n",
      "  (layer2): Sequential(\n",
      "    (0): BasicBlock(\n",
      "      (conv1): Conv2d(64, 128, kernel_size=(3, 3), stride=(2, 2), padding=(1, 1), bias=False)\n",
      "      (bn1): BatchNorm2d(128, eps=1e-05, momentum=0.1, affine=True, track_running_stats=True)\n",
      "      (relu): ReLU(inplace=True)\n",
      "      (conv2): Conv2d(128, 128, kernel_size=(3, 3), stride=(1, 1), padding=(1, 1), bias=False)\n",
      "      (bn2): BatchNorm2d(128, eps=1e-05, momentum=0.1, affine=True, track_running_stats=True)\n",
      "      (downsample): Sequential(\n",
      "        (0): Conv2d(64, 128, kernel_size=(1, 1), stride=(2, 2), bias=False)\n",
      "        (1): BatchNorm2d(128, eps=1e-05, momentum=0.1, affine=True, track_running_stats=True)\n",
      "      )\n",
      "    )\n",
      "    (1): BasicBlock(\n",
      "      (conv1): Conv2d(128, 128, kernel_size=(3, 3), stride=(1, 1), padding=(1, 1), bias=False)\n",
      "      (bn1): BatchNorm2d(128, eps=1e-05, momentum=0.1, affine=True, track_running_stats=True)\n",
      "      (relu): ReLU(inplace=True)\n",
      "      (conv2): Conv2d(128, 128, kernel_size=(3, 3), stride=(1, 1), padding=(1, 1), bias=False)\n",
      "      (bn2): BatchNorm2d(128, eps=1e-05, momentum=0.1, affine=True, track_running_stats=True)\n",
      "    )\n",
      "  )\n",
      "  (layer3): Sequential(\n",
      "    (0): BasicBlock(\n",
      "      (conv1): Conv2d(128, 256, kernel_size=(3, 3), stride=(2, 2), padding=(1, 1), bias=False)\n",
      "      (bn1): BatchNorm2d(256, eps=1e-05, momentum=0.1, affine=True, track_running_stats=True)\n",
      "      (relu): ReLU(inplace=True)\n",
      "      (conv2): Conv2d(256, 256, kernel_size=(3, 3), stride=(1, 1), padding=(1, 1), bias=False)\n",
      "      (bn2): BatchNorm2d(256, eps=1e-05, momentum=0.1, affine=True, track_running_stats=True)\n",
      "      (downsample): Sequential(\n",
      "        (0): Conv2d(128, 256, kernel_size=(1, 1), stride=(2, 2), bias=False)\n",
      "        (1): BatchNorm2d(256, eps=1e-05, momentum=0.1, affine=True, track_running_stats=True)\n",
      "      )\n",
      "    )\n",
      "    (1): BasicBlock(\n",
      "      (conv1): Conv2d(256, 256, kernel_size=(3, 3), stride=(1, 1), padding=(1, 1), bias=False)\n",
      "      (bn1): BatchNorm2d(256, eps=1e-05, momentum=0.1, affine=True, track_running_stats=True)\n",
      "      (relu): ReLU(inplace=True)\n",
      "      (conv2): Conv2d(256, 256, kernel_size=(3, 3), stride=(1, 1), padding=(1, 1), bias=False)\n",
      "      (bn2): BatchNorm2d(256, eps=1e-05, momentum=0.1, affine=True, track_running_stats=True)\n",
      "    )\n",
      "  )\n",
      "  (layer4): Sequential(\n",
      "    (0): BasicBlock(\n",
      "      (conv1): Conv2d(256, 512, kernel_size=(3, 3), stride=(2, 2), padding=(1, 1), bias=False)\n",
      "      (bn1): BatchNorm2d(512, eps=1e-05, momentum=0.1, affine=True, track_running_stats=True)\n",
      "      (relu): ReLU(inplace=True)\n",
      "      (conv2): Conv2d(512, 512, kernel_size=(3, 3), stride=(1, 1), padding=(1, 1), bias=False)\n",
      "      (bn2): BatchNorm2d(512, eps=1e-05, momentum=0.1, affine=True, track_running_stats=True)\n",
      "      (downsample): Sequential(\n",
      "        (0): Conv2d(256, 512, kernel_size=(1, 1), stride=(2, 2), bias=False)\n",
      "        (1): BatchNorm2d(512, eps=1e-05, momentum=0.1, affine=True, track_running_stats=True)\n",
      "      )\n",
      "    )\n",
      "    (1): BasicBlock(\n",
      "      (conv1): Conv2d(512, 512, kernel_size=(3, 3), stride=(1, 1), padding=(1, 1), bias=False)\n",
      "      (bn1): BatchNorm2d(512, eps=1e-05, momentum=0.1, affine=True, track_running_stats=True)\n",
      "      (relu): ReLU(inplace=True)\n",
      "      (conv2): Conv2d(512, 512, kernel_size=(3, 3), stride=(1, 1), padding=(1, 1), bias=False)\n",
      "      (bn2): BatchNorm2d(512, eps=1e-05, momentum=0.1, affine=True, track_running_stats=True)\n",
      "    )\n",
      "  )\n",
      "  (avgpool): AdaptiveAvgPool2d(output_size=(1, 1))\n",
      "  (fc): Linear(in_features=512, out_features=2, bias=True)\n",
      ")\n"
     ]
    }
   ],
   "source": [
    "# Cargar la ResNet18 preentrenada en ImageNet\n",
    "resnet18 = models.resnet18(weights=models.ResNet18_Weights.DEFAULT)\n",
    "\n",
    "# Descongelamos las capas desde layer2 en adelante (layer2, layer3, layer4, fc)\n",
    "# Esto permite que el modelo ajuste pesos en capas más profundas para aprender mejor patrones específicos del dataset MURA\n",
    "for name, param in resnet18.named_parameters():\n",
    "    if name.startswith('layer2') or name.startswith('layer3') or name.startswith('layer4') or name.startswith('fc'):\n",
    "        param.requires_grad = True  # Se entrena\n",
    "    else:\n",
    "        param.requires_grad = False  # Se congela\n",
    "\n",
    "# Reemplazar la capa final (fc) para clasificación binaria\n",
    "# Originalmente está diseñada para 1000 clases de ImageNet\n",
    "num_features = resnet18.fc.in_features\n",
    "resnet18.fc = nn.Linear(num_features, 2)  # 2 clases: normal (0) y abnormal (1)\n",
    "\n",
    "# Enviar modelo al dispositivo\n",
    "resnet18 = resnet18.to(DEVICE)\n",
    "\n",
    "# Ver estructura final del modelo (opcional)\n",
    "print(resnet18)"
   ]
  },
  {
   "cell_type": "markdown",
   "metadata": {},
   "source": [
    "## **Paso 6: Configuración del entrenamiento**\n",
    "\n",
    "En este paso se define todo lo necesario para el entrenamiento del modelo:\n",
    "\n",
    "- La **función de pérdida** (`CrossEntropyLoss`) adaptada al posible desbalance de clases usando pesos.\n",
    "- El **optimizador** (`Adam`) que actualizará los pesos del modelo.\n",
    "- Un **scheduler** (`ReduceLROnPlateau`) que reduce automáticamente la tasa de aprendizaje si el modelo deja de mejorar en validación.\n",
    "- Parámetros de **early stopping** que interrumpen el entrenamiento si el modelo no mejora después de varios *epochs* consecutivos.\n",
    "\n",
    "Esta configuración permite un entrenamiento más estable, eficiente y adaptado a las características del conjunto de datos."
   ]
  },
  {
   "cell_type": "code",
   "execution_count": 6,
   "metadata": {},
   "outputs": [
    {
     "name": "stderr",
     "output_type": "stream",
     "text": [
      "/opt/homebrew/lib/python3.11/site-packages/torch/optim/lr_scheduler.py:62: UserWarning: The verbose parameter is deprecated. Please use get_last_lr() to access the learning rate.\n",
      "  warnings.warn(\n"
     ]
    }
   ],
   "source": [
    "from sklearn.utils.class_weight import compute_class_weight\n",
    "\n",
    "# Obtener pesos de clase para abordar el desbalance (0: negativo, 1: positivo)\n",
    "class_counts = [label for _, label in train_dataset]\n",
    "class_weights = compute_class_weight(class_weight='balanced', classes=np.unique(class_counts), y=class_counts)\n",
    "class_weights = torch.tensor(class_weights, dtype=torch.float).to(DEVICE)\n",
    "\n",
    "# Definir la función de pérdida con pesos de clase\n",
    "criterion = nn.CrossEntropyLoss(weight=class_weights)\n",
    "\n",
    "# Optimizador: Adam\n",
    "optimizer = optim.Adam(resnet18.parameters(), lr=LEARNING_RATE, weight_decay=WEIGHT_DECAY)\n",
    "\n",
    "# Scheduler que reduce el learning rate si la validación no mejora\n",
    "scheduler = optim.lr_scheduler.ReduceLROnPlateau(\n",
    "    optimizer,\n",
    "    mode='min',\n",
    "    factor=0.5,           # Reducir LR a la mitad\n",
    "    patience=LR_PATIENCE, # Número de epochs sin mejora para reducir LR\n",
    "    verbose=True\n",
    ")\n",
    "\n",
    "# Inicializamos variables para early stopping\n",
    "best_val_loss = float('inf')\n",
    "epochs_no_improve = 0"
   ]
  },
  {
   "cell_type": "markdown",
   "metadata": {},
   "source": [
    "### **Paso 7: Entrenamiento del modelo**\n",
    "\n",
    "En este paso se entrena el modelo ResNet18 con las configuraciones previamente definidas.  \n",
    "Se aplicará Early Stopping para evitar overfitting si la pérdida de validación no mejora durante `EARLYSTOP_PATIENCE` épocas.  \n",
    "También se monitorizan métricas clave como la `accuracy`, el `F1-score`, y la pérdida (`loss`) tanto en entrenamiento como en validación.\n",
    "\n",
    "Además, si se alcanza una mejor puntuación en validación, el modelo se guarda automáticamente."
   ]
  },
  {
   "cell_type": "code",
   "execution_count": 7,
   "metadata": {},
   "outputs": [
    {
     "name": "stdout",
     "output_type": "stream",
     "text": [
      "Comienza el entrenamiento...\n",
      "Epoch 1 | Train Loss: 0.5380 | Val Loss: 0.5063 | Acc: 0.7707 | F1: 0.7402\n",
      "Mejor modelo guardado.\n",
      "Epoch 2 | Train Loss: 0.4766 | Val Loss: 0.4890 | Acc: 0.7842 | F1: 0.7607\n",
      "Mejor modelo guardado.\n",
      "Epoch 3 | Train Loss: 0.4514 | Val Loss: 0.4864 | Acc: 0.7798 | F1: 0.7626\n",
      "Mejor modelo guardado.\n",
      "Epoch 4 | Train Loss: 0.4345 | Val Loss: 0.4843 | Acc: 0.7973 | F1: 0.7700\n",
      "Mejor modelo guardado.\n",
      "Epoch 5 | Train Loss: 0.4177 | Val Loss: 0.4517 | Acc: 0.8058 | F1: 0.7817\n",
      "Mejor modelo guardado.\n",
      "Epoch 6 | Train Loss: 0.3997 | Val Loss: 0.4830 | Acc: 0.8114 | F1: 0.7901\n",
      "Epoch 7 | Train Loss: 0.3833 | Val Loss: 0.4475 | Acc: 0.7942 | F1: 0.7833\n",
      "Mejor modelo guardado.\n",
      "Epoch 8 | Train Loss: 0.3682 | Val Loss: 0.5143 | Acc: 0.7936 | F1: 0.7645\n",
      "Epoch 9 | Train Loss: 0.3503 | Val Loss: 0.4877 | Acc: 0.7954 | F1: 0.7786\n",
      "Epoch 10 | Train Loss: 0.3288 | Val Loss: 0.4715 | Acc: 0.8148 | F1: 0.7956\n",
      "Epoch 11 | Train Loss: 0.3128 | Val Loss: 0.4992 | Acc: 0.7970 | F1: 0.7824\n",
      "Epoch 12 | Train Loss: 0.2909 | Val Loss: 0.5255 | Acc: 0.7757 | F1: 0.7662\n",
      "Early stopping activado.\n"
     ]
    }
   ],
   "source": [
    "print(\"Comienza el entrenamiento...\")\n",
    "\n",
    "for epoch in range(NUM_EPOCHS):\n",
    "    resnet18.train()  # Ponemos el modelo en modo entrenamiento\n",
    "    train_loss = 0.0\n",
    "    y_true, y_pred = [], []\n",
    "\n",
    "    # Bucle sobre los batches del set de entrenamiento\n",
    "    for images, labels in train_loader:\n",
    "        images, labels = images.to(DEVICE), labels.to(DEVICE)\n",
    "\n",
    "        optimizer.zero_grad()  # Reseteamos los gradientes del optimizador\n",
    "        outputs = resnet18(images)  # Hacemos predicciones con el modelo\n",
    "        loss = criterion(outputs, labels)  # Calculamos la pérdida respecto a las etiquetas reales\n",
    "        loss.backward()  # Calculamos los gradientes (backpropagation)\n",
    "        optimizer.step()  # Actualizamos los pesos\n",
    "\n",
    "        train_loss += loss.item() * images.size(0)  # Acumulamos pérdida total del batch\n",
    "\n",
    "        _, preds = torch.max(outputs, 1)  # Obtenemos las clases predichas (mayor probabilidad)\n",
    "        y_true.extend(labels.cpu().numpy())  # Guardamos etiquetas reales\n",
    "        y_pred.extend(preds.cpu().numpy())   # Guardamos predicciones\n",
    "\n",
    "    avg_train_loss = train_loss / len(train_loader.dataset)  # Pérdida media del entrenamiento\n",
    "\n",
    "    # Validación (sin actualización de pesos)\n",
    "    resnet18.eval()  # Ponemos el modelo en modo evaluación\n",
    "    val_loss = 0.0\n",
    "    val_true, val_pred = [], []\n",
    "\n",
    "    with torch.no_grad():  # No calculamos gradientes (más rápido y eficiente)\n",
    "        for images, labels in valid_loader:\n",
    "            images, labels = images.to(DEVICE), labels.to(DEVICE)\n",
    "            outputs = resnet18(images)\n",
    "            loss = criterion(outputs, labels)\n",
    "            val_loss += loss.item() * images.size(0)\n",
    "\n",
    "            _, preds = torch.max(outputs, 1)\n",
    "            val_true.extend(labels.cpu().numpy())\n",
    "            val_pred.extend(preds.cpu().numpy())\n",
    "\n",
    "    avg_val_loss = val_loss / len(valid_loader.dataset)  # Pérdida media de validación\n",
    "    scheduler.step(avg_val_loss)  # Actualizamos el LR si la validación no mejora\n",
    "\n",
    "    # Cálculo de métricas de validación\n",
    "    acc = accuracy_score(val_true, val_pred)  # Exactitud\n",
    "    f1 = f1_score(val_true, val_pred, average=\"binary\")  # F1 para clasificación binaria\n",
    "\n",
    "    # Imprimimos resultados de la época actual\n",
    "    print(f\"Epoch {epoch+1} | Train Loss: {avg_train_loss:.4f} | \"\n",
    "          f\"Val Loss: {avg_val_loss:.4f} | Acc: {acc:.4f} | F1: {f1:.4f}\")\n",
    "\n",
    "    # Guardado del mejor modelo (con menor val_loss)\n",
    "    if avg_val_loss < best_val_loss:\n",
    "        best_val_loss = avg_val_loss\n",
    "        epochs_no_improve = 0\n",
    "        torch.save(resnet18.state_dict(), MODEL_PATH)  # Guardamos el modelo\n",
    "        print(\"Mejor modelo guardado.\")\n",
    "    else:\n",
    "        epochs_no_improve += 1\n",
    "        if epochs_no_improve >= EARLYSTOP_PATIENCE:  # Si no mejora durante N epochs, paramos\n",
    "            print(\"Early stopping activado.\")\n",
    "            break"
   ]
  },
  {
   "cell_type": "markdown",
   "metadata": {},
   "source": [
    "A pesar de alcanzar una precisión máxima del 81.48% y un F1-score de 0.7901, el modelo no ha superado significativamente al mejor resultado anterior con descongelado desde layer3, donde se alcanzó un F1 cercano al 0.814."
   ]
  },
  {
   "cell_type": "markdown",
   "metadata": {},
   "source": [
    "## **Paso 8: Evaluación del modelo final**\n",
    "\n",
    "En esta sección vamos a:\n",
    "- Cargar el mejor modelo guardado durante el entrenamiento.\n",
    "- Evaluarlo sobre el conjunto de validación.\n",
    "- Generar el reporte de clasificación (precision, recall, F1-score, etc).\n",
    "- Visualizar la matriz de confusión."
   ]
  },
  {
   "cell_type": "code",
   "execution_count": 8,
   "metadata": {},
   "outputs": [
    {
     "name": "stdout",
     "output_type": "stream",
     "text": [
      "\n",
      "Classification Report:\n",
      "              precision    recall  f1-score   support\n",
      "\n",
      "    negative       0.80      0.81      0.80      1667\n",
      "    positive       0.79      0.78      0.78      1530\n",
      "\n",
      "    accuracy                           0.79      3197\n",
      "   macro avg       0.79      0.79      0.79      3197\n",
      "weighted avg       0.79      0.79      0.79      3197\n",
      "\n"
     ]
    },
    {
     "data": {
      "image/png": "[encoded data removed]",
      "text/plain": [
       "<Figure size 640x480 with 2 Axes>"
      ]
     },
     "metadata": {},
     "output_type": "display_data"
    }
   ],
   "source": [
    "from sklearn.metrics import classification_report, confusion_matrix, ConfusionMatrixDisplay\n",
    "\n",
    "# Cargar el mejor modelo guardado durante el entrenamiento\n",
    "resnet18.load_state_dict(torch.load(MODEL_PATH))\n",
    "resnet18.eval()  # Importante: modo evaluación desactiva dropout, batchnorm dinámica, etc.\n",
    "\n",
    "# Evaluamos sobre el conjunto de validación\n",
    "all_preds = []\n",
    "all_labels = []\n",
    "\n",
    "with torch.no_grad():  # No necesitamos gradientes en esta fase\n",
    "    for images, labels in valid_loader:\n",
    "        images = images.to(DEVICE)\n",
    "        outputs = resnet18(images)\n",
    "        _, preds = torch.max(outputs, 1)  # Elegimos la clase con mayor probabilidad\n",
    "\n",
    "        all_preds.extend(preds.cpu().numpy())\n",
    "        all_labels.extend(labels.numpy())\n",
    "\n",
    "# Reporte de métricas\n",
    "print(\"\\nClassification Report:\")\n",
    "print(classification_report(all_labels, all_preds, target_names=[\"negative\", \"positive\"]))\n",
    "\n",
    "# Matriz de confusión\n",
    "cm = confusion_matrix(all_labels, all_preds)\n",
    "disp = ConfusionMatrixDisplay(confusion_matrix=cm, display_labels=[\"negative\", \"positive\"])\n",
    "disp.plot(cmap='Blues')\n",
    "plt.title(\"Matriz de Confusión\")\n",
    "plt.show()"
   ]
  },
  {
   "cell_type": "markdown",
   "metadata": {},
   "source": [
    "## **Paso 9: Guardado del modelo final**\n",
    "\n",
    "Una vez que hemos evaluado el modelo y verificado su rendimiento, es hora de guardar sus pesos entrenados para su reutilización en producción o inferencia posterior.\n",
    "\n",
    "El archivo se almacenará en la carpeta de modelos del proyecto. (\"/src/models\")"
   ]
  },
  {
   "cell_type": "code",
   "execution_count": 9,
   "metadata": {},
   "outputs": [
    {
     "name": "stdout",
     "output_type": "stream",
     "text": [
      "Modelo guardado correctamente en: /Users/alvarosanchez/ONLINE_DS_THEBRIDGE_ALVAROSMMS-1/ML_Clasificacion_Radiografias_Muscoesqueleticas/src/models/resnet18_final_model.joblib\n"
     ]
    }
   ],
   "source": [
    "import joblib\n",
    "import os\n",
    "\n",
    "# Ruta final donde se guardará el modelo entrenado\n",
    "final_model_path = \"/Users/alvarosanchez/ONLINE_DS_THEBRIDGE_ALVAROSMMS-1/ML_Clasificacion_Radiografias_Muscoesqueleticas/src/models/resnet18_final_model.joblib\"\n",
    "\n",
    "# Guardamos únicamente los pesos del modelo (state_dict)\n",
    "# Joblib guarda objetos binarios, útil para modelos en producción\n",
    "joblib.dump(resnet18.state_dict(), final_model_path)\n",
    "\n",
    "print(f\"Modelo guardado correctamente en: {final_model_path}\")"
   ]
  }
 ],
 "metadata": {
  "kernelspec": {
   "display_name": "Python 3",
   "language": "python",
   "name": "python3"
  },
  "language_info": {
   "codemirror_mode": {
    "name": "ipython",
    "version": 3
   },
   "file_extension": ".py",
   "mimetype": "text/x-python",
   "name": "python",
   "nbconvert_exporter": "python",
   "pygments_lexer": "ipython3",
   "version": "3.11.11"
  }
 },
 "nbformat": 4,
 "nbformat_minor": 2
}
