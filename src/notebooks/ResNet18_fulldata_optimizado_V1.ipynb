{
 "cells": [
  {
   "cell_type": "code",
   "execution_count": 4,
   "metadata": {},
   "outputs": [],
   "source": [
    "import os\n",
    "import numpy as np\n",
    "import matplotlib.pyplot as plt\n",
    "import torch\n",
    "import torch.nn as nn\n",
    "import torch.optim as optim\n",
    "from torch.optim.lr_scheduler import ReduceLROnPlateau\n",
    "from torchvision import datasets, models, transforms\n",
    "from torch.utils.data import DataLoader\n",
    "from sklearn.metrics import classification_report, f1_score\n",
    "from pathlib import Path\n",
    "import random"
   ]
  },
  {
   "cell_type": "code",
   "execution_count": 5,
   "metadata": {},
   "outputs": [],
   "source": [
    "DEVICE = torch.device(\"cuda\" if torch.cuda.is_available() else \"mps\" if torch.backends.mps.is_available() else \"cpu\")"
   ]
  },
  {
   "cell_type": "code",
   "execution_count": 6,
   "metadata": {},
   "outputs": [],
   "source": [
    "DATA_DIR = Path(\"/Users/alvarosanchez/Downloads/MURA-v1.1\")\n",
    "TRAIN_DIR = DATA_DIR / \"train\"\n",
    "VALID_DIR = DATA_DIR / \"valid\""
   ]
  },
  {
   "cell_type": "code",
   "execution_count": 7,
   "metadata": {},
   "outputs": [],
   "source": [
    "# HIPERPARÁMETROS\n",
    "BATCH_SIZE = 32\n",
    "EPOCHS = 20\n",
    "LEARNING_RATE = 1e-4\n",
    "WEIGHT_DECAY = 1e-4\n",
    "PATIENCE = 4"
   ]
  },
  {
   "cell_type": "code",
   "execution_count": 8,
   "metadata": {},
   "outputs": [],
   "source": [
    "# TRANSFORMACIONES\n",
    "transform_train = transforms.Compose([\n",
    "    transforms.RandomRotation(10),\n",
    "    transforms.RandomHorizontalFlip(),\n",
    "    transforms.ColorJitter(brightness=0.2, contrast=0.2),\n",
    "    transforms.Resize((224, 224)),\n",
    "    transforms.ToTensor(),\n",
    "    transforms.Normalize([0.485, 0.456, 0.406],\n",
    "                         [0.229, 0.224, 0.225])\n",
    "])\n",
    "\n",
    "transform_val = transforms.Compose([\n",
    "    transforms.Resize((224, 224)),\n",
    "    transforms.ToTensor(),\n",
    "    transforms.Normalize([0.485, 0.456, 0.406],\n",
    "                         [0.229, 0.224, 0.225])\n",
    "])"
   ]
  },
  {
   "cell_type": "code",
   "execution_count": 9,
   "metadata": {},
   "outputs": [],
   "source": [
    "#CARGA DE DATOS\n",
    "train_dataset = datasets.ImageFolder(TRAIN_DIR, transform=transform_train)\n",
    "valid_dataset = datasets.ImageFolder(VALID_DIR, transform=transform_val)\n",
    "\n",
    "train_loader = DataLoader(train_dataset, batch_size=BATCH_SIZE, shuffle=True)\n",
    "valid_loader = DataLoader(valid_dataset, batch_size=BATCH_SIZE)"
   ]
  },
  {
   "cell_type": "code",
   "execution_count": 10,
   "metadata": {},
   "outputs": [],
   "source": [
    "#MODELO\n",
    "model = models.resnet18(weights=\"DEFAULT\")\n",
    "model.fc = nn.Linear(model.fc.in_features, 2)\n",
    "model = model.to(DEVICE)"
   ]
  },
  {
   "cell_type": "code",
   "execution_count": 11,
   "metadata": {},
   "outputs": [],
   "source": [
    "#FUNCIÓN DE PÉRDIDA Y OPTIMIZADOR\n",
    "criterion = nn.CrossEntropyLoss()\n",
    "optimizer = optim.Adam(model.parameters(), lr=LEARNING_RATE, weight_decay=WEIGHT_DECAY)\n",
    "scheduler = ReduceLROnPlateau(optimizer, mode='min', factor=0.5, patience=2)"
   ]
  },
  {
   "cell_type": "code",
   "execution_count": 15,
   "metadata": {},
   "outputs": [
    {
     "name": "stdout",
     "output_type": "stream",
     "text": [
      "Epoch 1 | Train Loss: 0.0036 | Val Loss: 0.0012 | Acc: 0.2893 | F1: 0.1304\n",
      "Mejor modelo guardado.\n",
      "Epoch 2 | Train Loss: 0.0033 | Val Loss: 0.0017 | Acc: 0.2890 | F1: 0.1305\n",
      "Epoch 3 | Train Loss: 0.0016 | Val Loss: 0.0006 | Acc: 0.2893 | F1: 0.1304\n",
      "Mejor modelo guardado.\n",
      "Epoch 4 | Train Loss: 0.0011 | Val Loss: 0.0014 | Acc: 0.2890 | F1: 0.1305\n",
      "Epoch 5 | Train Loss: 0.0016 | Val Loss: 0.0016 | Acc: 0.2893 | F1: 0.1304\n",
      "Epoch 6 | Train Loss: 0.0011 | Val Loss: 0.0025 | Acc: 0.2887 | F1: 0.1298\n",
      "Epoch 7 | Train Loss: 0.0004 | Val Loss: 0.0021 | Acc: 0.2893 | F1: 0.1300\n",
      "Early stopping activado.\n"
     ]
    }
   ],
   "source": [
    "#ENTRENAMIENTO CON EARLY STOPPING\n",
    "train_losses, val_losses = [], []\n",
    "best_val_loss = float('inf')\n",
    "epochs_no_improve = 0\n",
    "\n",
    "for epoch in range(EPOCHS):\n",
    "    model.train()\n",
    "    running_loss = 0.0\n",
    "    for inputs, labels in train_loader:\n",
    "        inputs, labels = inputs.to(DEVICE), labels.to(DEVICE)\n",
    "        optimizer.zero_grad()\n",
    "        outputs = model(inputs)\n",
    "        loss = criterion(outputs, labels)\n",
    "        loss.backward()\n",
    "        optimizer.step()\n",
    "        running_loss += loss.item()\n",
    "\n",
    "    avg_train_loss = running_loss / len(train_loader)\n",
    "    train_losses.append(avg_train_loss)\n",
    "\n",
    "    #VALIDACIÓN\n",
    "    model.eval()\n",
    "    val_loss = 0.0\n",
    "    y_true, y_pred = [], []\n",
    "    with torch.no_grad():\n",
    "        for inputs, labels in valid_loader:\n",
    "            inputs, labels = inputs.to(DEVICE), labels.to(DEVICE)\n",
    "            outputs = model(inputs)\n",
    "            loss = criterion(outputs, labels)\n",
    "            val_loss += loss.item()\n",
    "            preds = torch.argmax(outputs, dim=1)\n",
    "            y_true.extend(labels.cpu().numpy())\n",
    "            y_pred.extend(preds.cpu().numpy())\n",
    "\n",
    "    avg_val_loss = val_loss / len(valid_loader)\n",
    "    val_losses.append(avg_val_loss)\n",
    "    scheduler.step(avg_val_loss)\n",
    "    f1 = f1_score(y_true, y_pred,average='weighted')\n",
    "    acc = np.mean(np.array(y_true) == np.array(y_pred))\n",
    "\n",
    "    print(f\"Epoch {epoch+1} | Train Loss: {avg_train_loss:.4f} | Val Loss: {avg_val_loss:.4f} | Acc: {acc:.4f} | F1: {f1:.4f}\")\n",
    "\n",
    "    #GUARDADO DEL MEJOR MODELO\n",
    "    if avg_val_loss < best_val_loss:\n",
    "        best_val_loss = avg_val_loss\n",
    "        epochs_no_improve = 0\n",
    "        torch.save(model.state_dict(), \"/Users/alvarosanchez/ONLINE_DS_THEBRIDGE_ALVAROSMMS-1/ML_Clasificacion_Radiografias_Muscoesqueleticas/src/models/resnet18_optimized.pt\")\n",
    "        print(\"Mejor modelo guardado.\")\n",
    "    else:\n",
    "        epochs_no_improve += 1\n",
    "        if epochs_no_improve >= PATIENCE:\n",
    "            print(\"Early stopping activado.\")\n",
    "            break"
   ]
  },
  {
   "cell_type": "code",
   "execution_count": 16,
   "metadata": {},
   "outputs": [
    {
     "name": "stdout",
     "output_type": "stream",
     "text": [
      "\n",
      "Reporte de clasificación final:\n",
      "              precision    recall  f1-score   support\n",
      "\n",
      "    XR_ELBOW       0.29      1.00      0.45       465\n",
      "   XR_FINGER       0.29      1.00      0.45       461\n",
      "  XR_FOREARM       0.00      0.00      0.00       301\n",
      "     XR_HAND       0.00      0.00      0.00       460\n",
      "  XR_HUMERUS       0.00      0.00      0.00       288\n",
      " XR_SHOULDER       0.00      0.00      0.00       563\n",
      "    XR_WRIST       0.00      0.00      0.00       659\n",
      "\n",
      "    accuracy                           0.29      3197\n",
      "   macro avg       0.08      0.29      0.13      3197\n",
      "weighted avg       0.08      0.29      0.13      3197\n",
      "\n"
     ]
    },
    {
     "name": "stderr",
     "output_type": "stream",
     "text": [
      "/opt/homebrew/lib/python3.11/site-packages/sklearn/metrics/_classification.py:1565: UndefinedMetricWarning: Precision is ill-defined and being set to 0.0 in labels with no predicted samples. Use `zero_division` parameter to control this behavior.\n",
      "  _warn_prf(average, modifier, f\"{metric.capitalize()} is\", len(result))\n",
      "/opt/homebrew/lib/python3.11/site-packages/sklearn/metrics/_classification.py:1565: UndefinedMetricWarning: Precision is ill-defined and being set to 0.0 in labels with no predicted samples. Use `zero_division` parameter to control this behavior.\n",
      "  _warn_prf(average, modifier, f\"{metric.capitalize()} is\", len(result))\n",
      "/opt/homebrew/lib/python3.11/site-packages/sklearn/metrics/_classification.py:1565: UndefinedMetricWarning: Precision is ill-defined and being set to 0.0 in labels with no predicted samples. Use `zero_division` parameter to control this behavior.\n",
      "  _warn_prf(average, modifier, f\"{metric.capitalize()} is\", len(result))\n"
     ]
    }
   ],
   "source": [
    "#CLASIFICACIÓN FINAL\n",
    "print(\"\\nReporte de clasificación final:\")\n",
    "print(classification_report(y_true, y_pred, target_names=train_dataset.classes))"
   ]
  },
  {
   "cell_type": "code",
   "execution_count": null,
   "metadata": {},
   "outputs": [],
   "source": [
    "import matplotlib.pyplot as plt\n",
    "\n",
    "#FUNCIÓN PARA MOSTRAR PREDICCIONES\n",
    "def mostrar_predicciones(modelo, dataloader, class_names, n=8):\n",
    "    modelo.eval()\n",
    "    images_shown = 0\n",
    "    plt.figure(figsize=(15, 8))\n",
    "    \n",
    "    with torch.no_grad():\n",
    "        for inputs, labels in dataloader:\n",
    "            inputs, labels = inputs.to(DEVICE), labels.to(DEVICE)\n",
    "            outputs = modelo(inputs)\n",
    "            preds = torch.argmax(outputs, dim=1)\n",
    "\n",
    "            for i in range(inputs.size(0)):\n",
    "                if images_shown == n:\n",
    "                    break\n",
    "\n",
    "                img = inputs[i].cpu().permute(1, 2, 0).numpy()\n",
    "                img = img * np.array([0.229, 0.224, 0.225]) + np.array([0.485, 0.456, 0.406])\n",
    "                img = np.clip(img, 0, 1)\n",
    "\n",
    "                true_label = class_names[labels[i]]\n",
    "                pred_label = class_names[preds[i]]\n",
    "\n",
    "                color = \"green\" if true_label == pred_label else \"red\"\n",
    "                title = f\"Pred: {pred_label}\\nGT: {true_label}\"\n",
    "\n",
    "                plt.subplot(n // 4 + 1, 4, images_shown + 1)\n",
    "                plt.imshow(img)\n",
    "                plt.title(title, color=color)\n",
    "                plt.axis('off')\n",
    "                \n",
    "                images_shown += 1\n",
    "\n",
    "            if images_shown == n:\n",
    "                break\n",
    "    \n",
    "    plt.suptitle(\"Predicciones del modelo en validación\", fontsize=16)\n",
    "    plt.tight_layout()\n",
    "    plt.show()\n",
    "\n",
    "#LLAMADA A LA FUNCIÓN\n",
    "mostrar_predicciones(model, valid_loader, train_dataset.classes, n=8)"
   ]
  }
 ],
 "metadata": {
  "kernelspec": {
   "display_name": "Python 3",
   "language": "python",
   "name": "python3"
  },
  "language_info": {
   "codemirror_mode": {
    "name": "ipython",
    "version": 3
   },
   "file_extension": ".py",
   "mimetype": "text/x-python",
   "name": "python",
   "nbconvert_exporter": "python",
   "pygments_lexer": "ipython3",
   "version": "3.11.11"
  }
 },
 "nbformat": 4,
 "nbformat_minor": 2
}
